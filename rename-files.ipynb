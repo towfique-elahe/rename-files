{
 "cells": [
  {
   "cell_type": "markdown",
   "metadata": {},
   "source": [
    "# Python Script for Renaming Files Based on CSV Input (SKU Example)"
   ]
  },
  {
   "cell_type": "markdown",
   "metadata": {},
   "source": [
    "**Description:** A versatile Python program that renames all files in a chosen folder according to data from a provided CSV sheet. Ideal for tasks like renaming product images based on SKU codes, this script reads the CSV file, maps existing filenames to the specified SKU or other identifiers, and renames the files automatically. Whether managing product catalogs or organizing media files, this script simplifies bulk renaming tasks with just a few lines of code."
   ]
  },
  {
   "cell_type": "code",
   "execution_count": null,
   "metadata": {
    "colab": {
     "base_uri": "https://localhost:8080/"
    },
    "id": "61MVWerasqy6",
    "outputId": "020c1a24-a934-4a08-9ef0-9fd404694d76"
   },
   "outputs": [
    {
     "name": "stdout",
     "output_type": "stream",
     "text": [
      "Mounted at /content/drive\n"
     ]
    }
   ],
   "source": [
    "from google.colab import drive\n",
    "drive.mount('/content/drive')"
   ]
  },
  {
   "cell_type": "code",
   "execution_count": null,
   "metadata": {
    "id": "QD8dEniJuX2c"
   },
   "outputs": [],
   "source": [
    "import pandas as pd\n",
    "import os"
   ]
  },
  {
   "cell_type": "code",
   "execution_count": null,
   "metadata": {
    "id": "OBRlfr22ubB8"
   },
   "outputs": [],
   "source": [
    "# Load the CSV file\n",
    "df = pd.read_csv('/content/drive/MyDrive/rename images/Home Decor Retail _ Products - Retail (63) _ 14.09.24.csv')\n",
    "\n",
    "# Define the folder containing the images\n",
    "folder_path = '/content/drive/MyDrive/rename images/products (63) - 14.09.24'"
   ]
  },
  {
   "cell_type": "code",
   "execution_count": null,
   "metadata": {
    "colab": {
     "base_uri": "https://localhost:8080/"
    },
    "id": "zOCwGJzzufhz",
    "outputId": "94079ed6-c0f4-40c4-eacf-80510e812572"
   },
   "outputs": [
    {
     "name": "stdout",
     "output_type": "stream",
     "text": [
      "Renamed: 68-012 (1).png -> Fake Hanging Decorative Bananas for Kitchen.png\n",
      "Renamed: 68-012 (2).png -> Yellow Lemon Garland with Green Leaves.png\n",
      "Renamed: 68-012 (3).png -> Loveinfinity Artificial Red Apple Decor.png\n",
      "Renamed: 68-012 (4).png -> Decorative Artificial Pomegranate Wall Hanging.png\n",
      "Renamed: 68-012 (5).png -> Hanging Vegetable Fruit Garland Decor.png\n",
      "Renamed: 68-070A.png -> Black Artificial Dried Rose Decor.png\n",
      "Renamed: 68-070B.png -> Artificial Silk Hydrangea Orchid Flowers.png\n",
      "Renamed: 68-071A.png -> Silk Fall Artificial Flowers Decor.png\n",
      "Renamed: 68-071B.png -> Pale Mauve Silk Peony Bouquet.png\n",
      "Renamed: 68-072A.png -> Silk Rose Bouquet Fake Flowers.png\n",
      "Renamed: 68-072B.png -> Mini Artificial Roses Party Decor.png\n",
      "Renamed: 68-151.png -> Artificial Palm Tree Home Office Decor.png\n",
      "Renamed: 68-213A.png -> Pink Artificial Tree for Office Decor.png\n",
      "Renamed: 68-213B.png -> Artificial Peach Blossom Orchid Bunch.png\n",
      "Renamed: 68-214A.png -> Silk Leaf Artificial Flower Tree.png\n",
      "Renamed: 68-214B.png -> Realistic Artificial Blossom Tree UK.png\n",
      "Renamed: 68-215A.png -> Large Artificial Cherry Blossom Tree.png\n",
      "Renamed: 68-215B.png -> Artificial Cherry Blossom Tree Decor.png\n",
      "Renamed: 69-080 (1).png -> Red Artificial Rose Flower Pot.png\n",
      "Renamed: 69-080 (2).png -> Artificial Cotton Rose Flower Table Decor.png\n",
      "Renamed: 69-080 (3).png -> Real Touch Artificial Rose Bouquet.png\n",
      "Renamed: 69-081 (1).png -> White Rose Artificial Flower Pot Decor.png\n",
      "Renamed: 69-081 (2).png -> Potted Faux Silk Roses Decor.png\n",
      "Renamed: 69-081 (3).png -> Pink Miniature Rose Plant Nursery.png\n",
      "Renamed: 69-707.png -> Glitter Poinsettia Artificial Flowers Decor.png\n",
      "Renamed: 69-708.png -> Glitter Artificial Flowers Wedding Bouquet.png\n",
      "Renamed: 69-709.png -> Glitter Poinsettia Artificial Flowers Decor.png\n",
      "Renamed: 69-710.png -> Glittering Long Stem Artificial Flowers.png\n",
      "Renamed: 69-711.png -> Glitter Poinsettia Artificial Flowers Decor.png\n",
      "Renamed: 69-711A.png -> Brown Oriental Lily Artificial Flowers Decor.png\n",
      "Renamed: 69-712.png -> Glitter Poinsettia Artificial Flowers Decor.png\n",
      "Renamed: 69-712A.png -> Red Glitter Poinsettia Christmas Ornaments.png\n",
      "Renamed: 69-713.png -> Glittering Long Stem Artificial Flowers.png\n",
      "Renamed: 69-713A.png -> Artificial Dianthus California Home Decor Flowers.png\n",
      "Renamed: 75-958.png -> Bohemian Gold Plated Sugar Bowl.png\n",
      "Renamed: 85-670.png -> Elegant Heart-Shaped Farmhouse Vase.png\n",
      "Renamed: 85-690.png -> Abstract Silver Ceramic Sculpture Decor.png\n",
      "Renamed: 15-469.png -> Luxury Elephant Crystal Porcelain Wall Art.png\n",
      "Renamed: 15-487.png -> Modern Transparent Glass Flower Vase.png\n",
      "Renamed: 15-511.png -> NYC World Trade Center Nature Wallpaper.png\n",
      "Renamed: 15-530.png -> Brooklyn Bridge Moonlit Canvas Art.png\n",
      "Renamed: 15-810.png -> Lions Landscape Pair Digital Art HD.png\n",
      "Renamed: 15-811.png -> Golden Peacock Modern Art Wall Print.png\n",
      "Renamed: 15-812.png -> Canvas Wall Art Tower Abstract Sky.png\n",
      "Renamed: 15-813.png -> Golden Eiffel Tower Paris Canvas Poster.png\n",
      "Renamed: 15-814.png -> Stunning Manhattan Night Skyline View.png\n",
      "Renamed: 15-815.png -> Daisy Dew Floral Wall Art.png\n",
      "Renamed: 15-816.png -> Blue Flower with Lip Design Art.png\n",
      "Renamed: 15-817.png -> Spring Still Life Fruit Grapes Flowers.png\n",
      "Renamed: 15-818.png -> Lotus Bud Artificial Flower Decor.png\n",
      "Renamed: 15-819.png -> Mystical Forest Golden Tree Art.png\n",
      "Renamed: 15-820.png -> Golden Bonsai Tree for Wealth.png\n",
      "Renamed: 15-821.png -> Tiger Fantasy Art Print Wall Decor.png\n",
      "Renamed: 15-822.png -> Mystical Golden Tree Forest Art.png\n",
      "Renamed: 15-823.png -> Golden Rosen Fantasy Art Print.png\n",
      "Renamed: 15-824.png -> Black Background Golden Rose Wall Art.png\n",
      "Renamed: 15-825.png -> Leopard Closeup Portrait on Log.png\n",
      "Renamed: 15-826.png -> White Wild Horse Running Canvas.png\n",
      "Renamed: 15-827.png -> Three Horses Running Wall Art.png\n",
      "Renamed: 15-828.png -> Golden Luxury Natural Line Wall Art.png\n",
      "Renamed: 15-829.png -> Tropical Parrot Wall Art Decor.png\n",
      "Renamed: 15-830.png -> Black Wall Art with Gold Blue Flowers.png\n",
      "Renamed: 15-831.png -> Floral Vase Painting Blue Background.png\n",
      "Renaming completed.\n"
     ]
    }
   ],
   "source": [
    "# Rename images\n",
    "for index, row in df.iterrows():\n",
    "    old_name = row['SKU'] + '.png'  # Adjust extension if needed\n",
    "    new_name = row['Name'] + '.png'  # Adjust extension if needed\n",
    "\n",
    "    old_path = os.path.join(folder_path, old_name)\n",
    "    new_path = os.path.join(folder_path, new_name)\n",
    "\n",
    "    if os.path.exists(old_path):\n",
    "        os.rename(old_path, new_path)\n",
    "        print(f'Renamed: {old_name} -> {new_name}')\n",
    "    else:\n",
    "        print(f'File not found: {old_name}')\n",
    "\n",
    "print('Renaming completed.')"
   ]
  }
 ],
 "metadata": {
  "colab": {
   "provenance": []
  },
  "kernelspec": {
   "display_name": "Python 3 (ipykernel)",
   "language": "python",
   "name": "python3"
  },
  "language_info": {
   "codemirror_mode": {
    "name": "ipython",
    "version": 3
   },
   "file_extension": ".py",
   "mimetype": "text/x-python",
   "name": "python",
   "nbconvert_exporter": "python",
   "pygments_lexer": "ipython3",
   "version": "3.12.4"
  }
 },
 "nbformat": 4,
 "nbformat_minor": 4
}
